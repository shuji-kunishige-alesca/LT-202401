{
 "cells": [
  {
   "cell_type": "markdown",
   "metadata": {},
   "source": [
    "# Collecting Data"
   ]
  },
  {
   "cell_type": "markdown",
   "metadata": {},
   "source": [
    "### data\n",
    "- pclass(Passenger class)： 旅客クラス（1＝1等、2＝2等、3＝3等）。裕福さの目安となる\n",
    "- name： 乗客の名前\n",
    "- sex： 性別（male＝男性、female＝女性）\n",
    "- age： 年齢。一部の乳児は小数値\n",
    "- sibsp(number of siblings or spouses of passengers)： タイタニック号に同乗している兄弟（Siblings）や配偶者（Spouses）の数\n",
    "- parch(number of parents and children)： タイタニック号に同乗している親（Parents）や子供（Children）の数\n",
    "- ticket： チケット番号\n",
    "- fare： 旅客運賃\n",
    "- cabin： 客室番号\n",
    "- embarked： 出港地（C＝Cherbourg：シェルブール、Q＝Queenstown：クイーンズタウン、S＝Southampton：サウサンプトン）\n",
    "- boat： 救命ボート番号\n",
    "- body： 遺体収容時の識別番号\n",
    "- home.dest： 自宅または目的地\n",
    "- survived：生存状況（0＝死亡、1＝生存）。通常はこの数値が目的変数として使われる"
   ]
  },
  {
   "cell_type": "markdown",
   "metadata": {},
   "source": [
    "### target \n",
    "- survived\n",
    "\n",
    "#### choose to use\n",
    "- Pclass\n",
    "- Sex\n",
    "- Age\n",
    "- SibSp\n",
    "- Parch\n",
    "- Fare\n",
    "- Embarked"
   ]
  },
  {
   "cell_type": "markdown",
   "metadata": {},
   "source": [
    "Train data is the data model uses to learn  \n",
    "Test data is the data model uses to answers"
   ]
  },
  {
   "cell_type": "code",
   "execution_count": null,
   "metadata": {},
   "outputs": [],
   "source": [
    "import pandas as pd\n",
    "train = pd.read_csv(\"./train.csv\")\n",
    "train\n"
   ]
  },
  {
   "cell_type": "markdown",
   "metadata": {},
   "source": [
    "# Preparing the Data"
   ]
  },
  {
   "cell_type": "markdown",
   "metadata": {},
   "source": [
    "choose data we use"
   ]
  },
  {
   "cell_type": "code",
   "execution_count": null,
   "metadata": {},
   "outputs": [],
   "source": [
    "train_p = train.copy()\n",
    "feature_name = [\"Pclass\", \"Sex\", \"Age\", \"SibSp\", \"Parch\", \"Fare\", \"Embarked\"]\n",
    "train = train[feature_name]\n",
    "train"
   ]
  },
  {
   "cell_type": "markdown",
   "metadata": {},
   "source": [
    "convert text to number"
   ]
  },
  {
   "cell_type": "code",
   "execution_count": null,
   "metadata": {},
   "outputs": [],
   "source": [
    "from sklearn.preprocessing import LabelEncoder\n",
    "lr = LabelEncoder()\n",
    "# convert label string to number\n",
    "train[\"Sex\"] = lr.fit_transform(train[\"Sex\"])\n",
    "train[\"Embarked\"] = lr.fit_transform(train[\"Embarked\"])\n",
    "train"
   ]
  },
  {
   "cell_type": "markdown",
   "metadata": {},
   "source": [
    "split data to features(特徴量) and target"
   ]
  },
  {
   "cell_type": "code",
   "execution_count": null,
   "metadata": {},
   "outputs": [],
   "source": [
    "# 説明変数と目的変数に分離\n",
    "X_train = train\n",
    "Y_train = train_p.iloc[:, 1:2]\n",
    "\n",
    "X_train"
   ]
  },
  {
   "cell_type": "code",
   "execution_count": null,
   "metadata": {},
   "outputs": [],
   "source": [
    "Y_train"
   ]
  },
  {
   "cell_type": "markdown",
   "metadata": {},
   "source": [
    "split data to train and evaluate"
   ]
  },
  {
   "cell_type": "code",
   "execution_count": null,
   "metadata": {},
   "outputs": [],
   "source": [
    "from sklearn.model_selection import train_test_split\n",
    "\n",
    "# X_trainとY_trainをtrainとevalに分割\n",
    "train_x, eval_x, train_y, eval_y = train_test_split(X_train, Y_train, test_size=0.33, random_state=0)"
   ]
  },
  {
   "cell_type": "markdown",
   "metadata": {},
   "source": [
    "# Choosing a Model"
   ]
  },
  {
   "cell_type": "code",
   "execution_count": null,
   "metadata": {},
   "outputs": [],
   "source": [
    "import xgboost\n",
    "model = xgboost.XGBClassifier(\n",
    "    n_estimators=200,\n",
    "    max_depth=7,\n",
    ")"
   ]
  },
  {
   "cell_type": "markdown",
   "metadata": {},
   "source": [
    "# Training the Model"
   ]
  },
  {
   "cell_type": "code",
   "execution_count": null,
   "metadata": {},
   "outputs": [],
   "source": [
    "model.fit(X_train, Y_train.Survived.values)"
   ]
  },
  {
   "cell_type": "code",
   "execution_count": null,
   "metadata": {},
   "outputs": [],
   "source": [
    "xgboost.plot_importance(model)"
   ]
  },
  {
   "cell_type": "markdown",
   "metadata": {},
   "source": [
    "# Evaluationg the Model"
   ]
  },
  {
   "cell_type": "code",
   "execution_count": null,
   "metadata": {},
   "outputs": [],
   "source": [
    "predicts = model.predict(eval_x)\n",
    "predicts"
   ]
  },
  {
   "cell_type": "code",
   "execution_count": null,
   "metadata": {},
   "outputs": [],
   "source": [
    "eval_y"
   ]
  },
  {
   "cell_type": "code",
   "execution_count": null,
   "metadata": {},
   "outputs": [],
   "source": [
    "from sklearn.metrics import accuracy_score\n",
    "accuracy = accuracy_score(eval_y, predicts)\n",
    "print(\"Accuracy: %.2f%%\" % (accuracy * 100.0))"
   ]
  },
  {
   "cell_type": "code",
   "execution_count": null,
   "metadata": {},
   "outputs": [],
   "source": []
  }
 ],
 "metadata": {
  "kernelspec": {
   "display_name": "Python 3",
   "language": "python",
   "name": "python3"
  },
  "language_info": {
   "codemirror_mode": {
    "name": "ipython",
    "version": 3
   },
   "file_extension": ".py",
   "mimetype": "text/x-python",
   "name": "python",
   "nbconvert_exporter": "python",
   "pygments_lexer": "ipython3",
   "version": "3.12.0"
  }
 },
 "nbformat": 4,
 "nbformat_minor": 2
}
